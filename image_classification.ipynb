{
  "nbformat": 4,
  "nbformat_minor": 0,
  "metadata": {
    "colab": {
      "name": "Bienvenue dans Colaboratory",
      "provenance": [],
      "collapsed_sections": [],
      "toc_visible": true
    },
    "kernelspec": {
      "display_name": "Python 3",
      "name": "python3"
    }
  },
  "cells": [
    {
      "cell_type": "markdown",
      "metadata": {
        "id": "6CiyEqSdyP_3",
        "colab_type": "text"
      },
      "source": [
        "### Image Classification with CNN"
      ]
    },
    {
      "cell_type": "markdown",
      "metadata": {
        "id": "f8p1-NPfyjoP",
        "colab_type": "text"
      },
      "source": [
        "In this noteboke, we will be building image classification model using CNN on MNSIT datasets, in a practical manner, how CNNs work for the image classification task, our exemple is Classify Hand-written Digits "
      ]
    },
    {
      "cell_type": "code",
      "metadata": {
        "id": "cnZPKrmpyLRU",
        "colab_type": "code",
        "colab": {
          "base_uri": "https://localhost:8080/",
          "height": 69
        },
        "outputId": "9cc14621-8355-4a61-c8c2-6e4daacc5010"
      },
      "source": [
        "from keras.datasets import mnist\n",
        "\n",
        "# loading the dataset\n",
        "(X_train, y_train), (X_test, y_test) = mnist.load_data()\n"
      ],
      "execution_count": 1,
      "outputs": [
        {
          "output_type": "stream",
          "text": [
            "Using TensorFlow backend.\n"
          ],
          "name": "stderr"
        },
        {
          "output_type": "stream",
          "text": [
            "Downloading data from https://s3.amazonaws.com/img-datasets/mnist.npz\n",
            "11493376/11490434 [==============================] - 0s 0us/step\n"
          ],
          "name": "stdout"
        }
      ]
    },
    {
      "cell_type": "code",
      "metadata": {
        "id": "0ua35ZRWyVja",
        "colab_type": "code",
        "colab": {
          "base_uri": "https://localhost:8080/",
          "height": 86
        },
        "outputId": "c5f3b1e1-6ab4-4cb8-a559-f9a82f1736f5"
      },
      "source": [
        "# let's print the shape of the dataset\n",
        "print(\"X_train shape\", X_train.shape)\n",
        "print(\"y_train shape\", y_train.shape)\n",
        "print(\"X_test shape\", X_test.shape)\n",
        "print(\"y_test shape\", y_test.shape)"
      ],
      "execution_count": 2,
      "outputs": [
        {
          "output_type": "stream",
          "text": [
            "X_train shape (60000, 28, 28)\n",
            "y_train shape (60000,)\n",
            "X_test shape (10000, 28, 28)\n",
            "y_test shape (10000,)\n"
          ],
          "name": "stdout"
        }
      ]
    },
    {
      "cell_type": "markdown",
      "metadata": {
        "id": "bFIZXRSZzuag",
        "colab_type": "text"
      },
      "source": [
        "Before we train a CNN model, let’s build a basic Fully Connected Neural Network for the dataset. The basic steps to build an image classification model using a neural network are:\n",
        "\n",
        "\n",
        "1.   Flatten the input image dimensions to 1D (width pixels x height pixels)\n",
        "2.   Normalize the image pixel values (divide by 255)\n",
        "3.   One-Hot Encode the categorical column\n",
        "4.   Build a model architecture (Sequential) with Dense layers\n",
        "5.   Train the model and make predictions\n",
        "\n",
        "\n"
      ]
    },
    {
      "cell_type": "code",
      "metadata": {
        "id": "j3bUM2WCzjt3",
        "colab_type": "code",
        "colab": {}
      },
      "source": [
        "# 1. Flattening the images from the 28x28 pixels to 1D 787 pixels\n",
        "X_train = X_train.reshape(60000, 784)\n",
        "X_test = X_test.reshape(10000, 784)\n",
        "X_train = X_train.astype('float32')\n",
        "X_test = X_test.astype('float32')"
      ],
      "execution_count": 0,
      "outputs": []
    },
    {
      "cell_type": "code",
      "metadata": {
        "id": "60VlQ0q40bkJ",
        "colab_type": "code",
        "colab": {}
      },
      "source": [
        "# 2. Normalizing the data to help with the training\n",
        "X_train /= 255\n",
        "X_test /= 255"
      ],
      "execution_count": 0,
      "outputs": []
    },
    {
      "cell_type": "code",
      "metadata": {
        "id": "KGmTOJD40lrr",
        "colab_type": "code",
        "colab": {
          "base_uri": "https://localhost:8080/",
          "height": 51
        },
        "outputId": "804730c8-fbab-4608-fbfa-3e91ad02e124"
      },
      "source": [
        "# 3. One-hot encoding using keras' numpy-related utilities\n",
        "from keras.utils import np_utils\n",
        "\n",
        "n_classes = 10\n",
        "print(\"Shape before one-hot encoding: \", y_train.shape)\n",
        "Y_train = np_utils.to_categorical(y_train, n_classes)\n",
        "Y_test = np_utils.to_categorical(y_test, n_classes)\n",
        "print(\"Shape after one-hot encoding: \", Y_train.shape)"
      ],
      "execution_count": 6,
      "outputs": [
        {
          "output_type": "stream",
          "text": [
            "Shape before one-hot encoding:  (60000,)\n",
            "Shape after one-hot encoding:  (60000, 10)\n"
          ],
          "name": "stdout"
        }
      ]
    },
    {
      "cell_type": "code",
      "metadata": {
        "id": "MfgKlQUC0xdA",
        "colab_type": "code",
        "colab": {
          "base_uri": "https://localhost:8080/",
          "height": 34
        },
        "outputId": "7024f036-41bd-4d98-bcd3-da2561ec99fc"
      },
      "source": [
        "y_train[1:5]"
      ],
      "execution_count": 7,
      "outputs": [
        {
          "output_type": "execute_result",
          "data": {
            "text/plain": [
              "array([0, 4, 1, 9], dtype=uint8)"
            ]
          },
          "metadata": {
            "tags": []
          },
          "execution_count": 7
        }
      ]
    },
    {
      "cell_type": "code",
      "metadata": {
        "id": "GzhZFRpi1Gkx",
        "colab_type": "code",
        "colab": {
          "base_uri": "https://localhost:8080/",
          "height": 86
        },
        "outputId": "9ffd6623-1ff8-46fc-83c5-98c1cf96d5b3"
      },
      "source": [
        "Y_train[1:5]"
      ],
      "execution_count": 8,
      "outputs": [
        {
          "output_type": "execute_result",
          "data": {
            "text/plain": [
              "array([[1., 0., 0., 0., 0., 0., 0., 0., 0., 0.],\n",
              "       [0., 0., 0., 0., 1., 0., 0., 0., 0., 0.],\n",
              "       [0., 1., 0., 0., 0., 0., 0., 0., 0., 0.],\n",
              "       [0., 0., 0., 0., 0., 0., 0., 0., 0., 1.]], dtype=float32)"
            ]
          },
          "metadata": {
            "tags": []
          },
          "execution_count": 8
        }
      ]
    },
    {
      "cell_type": "code",
      "metadata": {
        "id": "psnyCE2a1M3U",
        "colab_type": "code",
        "colab": {}
      },
      "source": [
        "# 4. building a linear stack of layers with the sequential model\n",
        "from keras.models import Sequential\n",
        "from keras.layers import Dense\n",
        "\n",
        "model = Sequential()\n",
        "# hidden layer\n",
        "model.add(Dense(100, input_shape=(784,), activation='relu'))\n",
        "# output layer\n",
        "model.add(Dense(10, activation='softmax'))"
      ],
      "execution_count": 0,
      "outputs": []
    },
    {
      "cell_type": "code",
      "metadata": {
        "id": "yGYGc4Hu1bLl",
        "colab_type": "code",
        "colab": {
          "base_uri": "https://localhost:8080/",
          "height": 225
        },
        "outputId": "fab220b9-c63b-49d9-a5ef-ccd397781a3a"
      },
      "source": [
        "# looking at the model summary\n",
        "model.summary()"
      ],
      "execution_count": 11,
      "outputs": [
        {
          "output_type": "stream",
          "text": [
            "Model: \"sequential_2\"\n",
            "_________________________________________________________________\n",
            "Layer (type)                 Output Shape              Param #   \n",
            "=================================================================\n",
            "dense_1 (Dense)              (None, 100)               78500     \n",
            "_________________________________________________________________\n",
            "dense_2 (Dense)              (None, 10)                1010      \n",
            "=================================================================\n",
            "Total params: 79,510\n",
            "Trainable params: 79,510\n",
            "Non-trainable params: 0\n",
            "_________________________________________________________________\n"
          ],
          "name": "stdout"
        }
      ]
    },
    {
      "cell_type": "code",
      "metadata": {
        "id": "l3G8S04e1q4i",
        "colab_type": "code",
        "colab": {}
      },
      "source": [
        "# compiling the sequential model\n",
        "model.compile(loss='categorical_crossentropy', metrics=['accuracy'], optimizer='adam')"
      ],
      "execution_count": 0,
      "outputs": []
    },
    {
      "cell_type": "code",
      "metadata": {
        "id": "0_PaSXok1x26",
        "colab_type": "code",
        "colab": {
          "base_uri": "https://localhost:8080/",
          "height": 418
        },
        "outputId": "ca1b8c2f-1289-4be0-a3e9-a08c84db850d"
      },
      "source": [
        "# training the model for 10 epochs\n",
        "model.fit(X_train, Y_train, batch_size=128, epochs=10, validation_data=(X_test, Y_test))"
      ],
      "execution_count": 13,
      "outputs": [
        {
          "output_type": "stream",
          "text": [
            "Train on 60000 samples, validate on 10000 samples\n",
            "Epoch 1/10\n",
            "60000/60000 [==============================] - 2s 37us/step - loss: 0.3779 - accuracy: 0.8961 - val_loss: 0.2091 - val_accuracy: 0.9417\n",
            "Epoch 2/10\n",
            "60000/60000 [==============================] - 2s 32us/step - loss: 0.1800 - accuracy: 0.9488 - val_loss: 0.1473 - val_accuracy: 0.9582\n",
            "Epoch 3/10\n",
            "60000/60000 [==============================] - 2s 32us/step - loss: 0.1291 - accuracy: 0.9633 - val_loss: 0.1135 - val_accuracy: 0.9669\n",
            "Epoch 4/10\n",
            "60000/60000 [==============================] - 2s 31us/step - loss: 0.1005 - accuracy: 0.9714 - val_loss: 0.1020 - val_accuracy: 0.9687\n",
            "Epoch 5/10\n",
            "60000/60000 [==============================] - 2s 31us/step - loss: 0.0823 - accuracy: 0.9760 - val_loss: 0.0900 - val_accuracy: 0.9731\n",
            "Epoch 6/10\n",
            "60000/60000 [==============================] - 2s 31us/step - loss: 0.0686 - accuracy: 0.9801 - val_loss: 0.0856 - val_accuracy: 0.9737\n",
            "Epoch 7/10\n",
            "60000/60000 [==============================] - 2s 32us/step - loss: 0.0581 - accuracy: 0.9833 - val_loss: 0.0807 - val_accuracy: 0.9747\n",
            "Epoch 8/10\n",
            "60000/60000 [==============================] - 2s 31us/step - loss: 0.0507 - accuracy: 0.9851 - val_loss: 0.0772 - val_accuracy: 0.9762\n",
            "Epoch 9/10\n",
            "60000/60000 [==============================] - 2s 31us/step - loss: 0.0436 - accuracy: 0.9877 - val_loss: 0.0767 - val_accuracy: 0.9757\n",
            "Epoch 10/10\n",
            "60000/60000 [==============================] - 2s 30us/step - loss: 0.0373 - accuracy: 0.9898 - val_loss: 0.0771 - val_accuracy: 0.9754\n"
          ],
          "name": "stdout"
        },
        {
          "output_type": "execute_result",
          "data": {
            "text/plain": [
              "<keras.callbacks.callbacks.History at 0x7f09a97c82b0>"
            ]
          },
          "metadata": {
            "tags": []
          },
          "execution_count": 13
        }
      ]
    },
    {
      "cell_type": "code",
      "metadata": {
        "id": "rsqXziD3128c",
        "colab_type": "code",
        "colab": {
          "base_uri": "https://localhost:8080/",
          "height": 34
        },
        "outputId": "01449655-11de-4841-ba6b-a6096871b272"
      },
      "source": [
        "y_test[1]"
      ],
      "execution_count": 15,
      "outputs": [
        {
          "output_type": "execute_result",
          "data": {
            "text/plain": [
              "2"
            ]
          },
          "metadata": {
            "tags": []
          },
          "execution_count": 15
        }
      ]
    },
    {
      "cell_type": "code",
      "metadata": {
        "id": "rvQrla6q2yb-",
        "colab_type": "code",
        "colab": {
          "base_uri": "https://localhost:8080/",
          "height": 265
        },
        "outputId": "c460d9ff-781d-4ef2-9c4d-e2b0f8adea45"
      },
      "source": [
        "import matplotlib.pyplot as plt\n",
        "%matplotlib inline\n",
        "image = 255 * X_test[0]\n",
        "image = image.reshape(28, 28)\n",
        "# plot the sample\n",
        "fig = plt.figure\n",
        "plt.imshow(image, cmap='gray')\n",
        "plt.show()\n"
      ],
      "execution_count": 41,
      "outputs": [
        {
          "output_type": "display_data",
          "data": {
            "image/png": "[encoded data removed]",
            "text/plain": [
              "<Figure size 432x288 with 1 Axes>"
            ]
          },
          "metadata": {
            "tags": [],
            "needs_background": "light"
          }
        }
      ]
    },
    {
      "cell_type": "code",
      "metadata": {
        "id": "H8tE-tXz44Hm",
        "colab_type": "code",
        "colab": {
          "base_uri": "https://localhost:8080/",
          "height": 51
        },
        "outputId": "295eff61-97d6-4163-8caa-9f0bb617f361"
      },
      "source": [
        "  test_loss, test_acc = model.evaluate(X_test,  Y_test, verbose=2)\n",
        "\n",
        "print('\\nTest accuracy:', test_acc)"
      ],
      "execution_count": 33,
      "outputs": [
        {
          "output_type": "stream",
          "text": [
            "\n",
            "Test accuracy: 0.9753999710083008\n"
          ],
          "name": "stdout"
        }
      ]
    },
    {
      "cell_type": "code",
      "metadata": {
        "id": "JA0jTw-53CSE",
        "colab_type": "code",
        "colab": {
          "base_uri": "https://localhost:8080/",
          "height": 34
        },
        "outputId": "388b11ab-4c7d-4f5e-d7a1-157a69be7338"
      },
      "source": [
        "import numpy as np\n",
        "np.argmax(model.predict(X_train[1:2]))"
      ],
      "execution_count": 39,
      "outputs": [
        {
          "output_type": "execute_result",
          "data": {
            "text/plain": [
              "0"
            ]
          },
          "metadata": {
            "tags": []
          },
          "execution_count": 39
        }
      ]
    },
    {
      "cell_type": "code",
      "metadata": {
        "id": "PBuZxJyL-ns-",
        "colab_type": "code",
        "colab": {}
      },
      "source": [
        "from keras.layers import  Softmax\n",
        "probability_model = Sequential([model, Softmax()])"
      ],
      "execution_count": 0,
      "outputs": []
    },
    {
      "cell_type": "code",
      "metadata": {
        "id": "PlqzPc5B_WZX",
        "colab_type": "code",
        "colab": {}
      },
      "source": [
        "predictions = probability_model.predict(X_test)\n"
      ],
      "execution_count": 0,
      "outputs": []
    },
    {
      "cell_type": "code",
      "metadata": {
        "id": "EsmdbPeO_zEJ",
        "colab_type": "code",
        "colab": {
          "base_uri": "https://localhost:8080/",
          "height": 69
        },
        "outputId": "f64f4c25-3597-4f3e-97e5-d786011e2ca5"
      },
      "source": [
        "predictions[0]"
      ],
      "execution_count": 37,
      "outputs": [
        {
          "output_type": "execute_result",
          "data": {
            "text/plain": [
              "array([0.08534127, 0.08534124, 0.08534199, 0.08537085, 0.08534124,\n",
              "       0.08534128, 0.08534124, 0.23189805, 0.08534139, 0.08534142],\n",
              "      dtype=float32)"
            ]
          },
          "metadata": {
            "tags": []
          },
          "execution_count": 37
        }
      ]
    },
    {
      "cell_type": "code",
      "metadata": {
        "id": "-_eYCz8t_3-C",
        "colab_type": "code",
        "colab": {
          "base_uri": "https://localhost:8080/",
          "height": 34
        },
        "outputId": "c6ed9769-89db-4fc9-f67c-98486dc5ea39"
      },
      "source": [
        "np.argmax(predictions[0])"
      ],
      "execution_count": 42,
      "outputs": [
        {
          "output_type": "execute_result",
          "data": {
            "text/plain": [
              "7"
            ]
          },
          "metadata": {
            "tags": []
          },
          "execution_count": 42
        }
      ]
    },
    {
      "cell_type": "code",
      "metadata": {
        "id": "tUnwkhCGAZkF",
        "colab_type": "code",
        "colab": {}
      },
      "source": [
        ""
      ],
      "execution_count": 0,
      "outputs": []
    },
    {
      "cell_type": "markdown",
      "metadata": {
        "id": "fD6ouD8tAabg",
        "colab_type": "text"
      },
      "source": [
        "\n",
        "\n",
        "---\n",
        "\n"
      ]
    },
    {
      "cell_type": "markdown",
      "metadata": {
        "id": "lYWdVsNcCQzS",
        "colab_type": "text"
      },
      "source": [
        "# Let’s modify the above code to build a CNN model classifier"
      ]
    },
    {
      "cell_type": "code",
      "metadata": {
        "id": "ki5TvAqSAd9K",
        "colab_type": "code",
        "colab": {}
      },
      "source": [
        "# reauired imports\n",
        "from keras.datasets import mnist\n",
        "from keras.models import Sequential\n",
        "from keras.layers import Dense, Dropout, Conv2D, MaxPool2D, Flatten\n",
        "from keras.utils import np_utils\n",
        "from sklearn.metrics import accuracy_score\n"
      ],
      "execution_count": 0,
      "outputs": []
    },
    {
      "cell_type": "markdown",
      "metadata": {
        "id": "id7qnw7yCwxX",
        "colab_type": "text"
      },
      "source": [
        "loading and preparin the data"
      ]
    },
    {
      "cell_type": "code",
      "metadata": {
        "id": "SfhS0tdkCn0F",
        "colab_type": "code",
        "colab": {
          "base_uri": "https://localhost:8080/",
          "height": 51
        },
        "outputId": "ed2d0b32-11d4-40e6-aacc-d9c50ad7c87c"
      },
      "source": [
        "# loading the dataset\n",
        "(X_train, y_train), (X_test, y_test) = mnist.load_data()\n",
        "\n",
        "# building the input vector from the 28x28 pixels\n",
        "X_train = X_train.reshape(X_train.shape[0], 28, 28, 1)\n",
        "X_test = X_test.reshape(X_test.shape[0], 28, 28, 1)\n",
        "X_train = X_train.astype('float32')\n",
        "X_test = X_test.astype('float32')\n",
        "\n",
        "# normalizing the data to help with the training\n",
        "X_train /= 255\n",
        "X_test /= 255\n",
        "\n",
        "# one-hot encoding using keras' numpy-related utilities\n",
        "n_classes = 10\n",
        "print(\"Shape before one-hot encoding: \", y_train.shape)\n",
        "Y_train = np_utils.to_categorical(y_train, n_classes)\n",
        "Y_test = np_utils.to_categorical(y_test, n_classes)\n",
        "print(\"Shape after one-hot encoding: \", Y_train.shape)\n"
      ],
      "execution_count": 44,
      "outputs": [
        {
          "output_type": "stream",
          "text": [
            "Shape before one-hot encoding:  (60000,)\n",
            "Shape after one-hot encoding:  (60000, 10)\n"
          ],
          "name": "stdout"
        }
      ]
    },
    {
      "cell_type": "markdown",
      "metadata": {
        "id": "EGsu3YfKDEAX",
        "colab_type": "text"
      },
      "source": [
        "building and training our model"
      ]
    },
    {
      "cell_type": "code",
      "metadata": {
        "id": "6mct7H9cC0OP",
        "colab_type": "code",
        "colab": {
          "base_uri": "https://localhost:8080/",
          "height": 418
        },
        "outputId": "2c0e089d-0efd-4f6f-b219-38adf69660e2"
      },
      "source": [
        "\n",
        "model = Sequential()\n",
        "# convolutional layer\n",
        "model.add(Conv2D(25, kernel_size=(3,3), strides=(1,1), padding='valid', activation='relu', input_shape=(28,28,1)))\n",
        "model.add(MaxPool2D(pool_size=(1,1)))\n",
        "# flatten output of conv\n",
        "model.add(Flatten())\n",
        "# hidden layer\n",
        "model.add(Dense(100, activation='relu'))\n",
        "# output layer\n",
        "model.add(Dense(10, activation='softmax'))\n",
        "\n",
        "# compiling the sequential model\n",
        "model.compile(loss='categorical_crossentropy', metrics=['accuracy'], optimizer='adam')\n",
        "\n",
        "# training the model for 10 epochs\n",
        "model.fit(X_train, Y_train, batch_size=128, epochs=10, validation_data=(X_test, Y_test))"
      ],
      "execution_count": 45,
      "outputs": [
        {
          "output_type": "stream",
          "text": [
            "Train on 60000 samples, validate on 10000 samples\n",
            "Epoch 1/10\n",
            "60000/60000 [==============================] - 48s 796us/step - loss: 0.1994 - accuracy: 0.9410 - val_loss: 0.0695 - val_accuracy: 0.9788\n",
            "Epoch 2/10\n",
            "60000/60000 [==============================] - 42s 708us/step - loss: 0.0592 - accuracy: 0.9822 - val_loss: 0.0555 - val_accuracy: 0.9822\n",
            "Epoch 3/10\n",
            "60000/60000 [==============================] - 43s 713us/step - loss: 0.0350 - accuracy: 0.9895 - val_loss: 0.0453 - val_accuracy: 0.9859\n",
            "Epoch 4/10\n",
            "60000/60000 [==============================] - 43s 709us/step - loss: 0.0208 - accuracy: 0.9937 - val_loss: 0.0482 - val_accuracy: 0.9845\n",
            "Epoch 5/10\n",
            "60000/60000 [==============================] - 42s 706us/step - loss: 0.0131 - accuracy: 0.9965 - val_loss: 0.0552 - val_accuracy: 0.9834\n",
            "Epoch 6/10\n",
            "60000/60000 [==============================] - 42s 708us/step - loss: 0.0095 - accuracy: 0.9971 - val_loss: 0.0491 - val_accuracy: 0.9854\n",
            "Epoch 7/10\n",
            "60000/60000 [==============================] - 43s 709us/step - loss: 0.0061 - accuracy: 0.9984 - val_loss: 0.0656 - val_accuracy: 0.9820\n",
            "Epoch 8/10\n",
            "60000/60000 [==============================] - 43s 710us/step - loss: 0.0061 - accuracy: 0.9982 - val_loss: 0.0538 - val_accuracy: 0.9866\n",
            "Epoch 9/10\n",
            "60000/60000 [==============================] - 43s 712us/step - loss: 0.0049 - accuracy: 0.9987 - val_loss: 0.0696 - val_accuracy: 0.9827\n",
            "Epoch 10/10\n",
            "60000/60000 [==============================] - 43s 709us/step - loss: 0.0051 - accuracy: 0.9984 - val_loss: 0.0732 - val_accuracy: 0.9811\n"
          ],
          "name": "stdout"
        },
        {
          "output_type": "execute_result",
          "data": {
            "text/plain": [
              "<keras.callbacks.callbacks.History at 0x7f0918d35fd0>"
            ]
          },
          "metadata": {
            "tags": []
          },
          "execution_count": 45
        }
      ]
    },
    {
      "cell_type": "code",
      "metadata": {
        "id": "MJoS9BrDDMB0",
        "colab_type": "code",
        "colab": {}
      },
      "source": [
        "test_loss, test_acc = model.evaluate(X_test,  Y_test, verbose=2)"
      ],
      "execution_count": 0,
      "outputs": []
    },
    {
      "cell_type": "code",
      "metadata": {
        "id": "qiJ_Ty3fE--Q",
        "colab_type": "code",
        "colab": {
          "base_uri": "https://localhost:8080/",
          "height": 34
        },
        "outputId": "aea769ba-5b53-43ab-e374-2d1535c3a0df"
      },
      "source": [
        "print('loss :',test_loss, ' __ acc :',test_acc)"
      ],
      "execution_count": 49,
      "outputs": [
        {
          "output_type": "stream",
          "text": [
            "loss : 0.07319641761352631  __ acc : 0.9811000227928162\n"
          ],
          "name": "stdout"
        }
      ]
    },
    {
      "cell_type": "code",
      "metadata": {
        "id": "GEk08vEEFaP_",
        "colab_type": "code",
        "colab": {}
      },
      "source": [
        ""
      ],
      "execution_count": 0,
      "outputs": []
    }
  ]
}